{
 "cells": [
  {
   "cell_type": "code",
   "execution_count": 27,
   "metadata": {
    "collapsed": false
   },
   "outputs": [],
   "source": [
    "from pandas.io.json import json_normalize\n",
    "import numpy as np\n",
    "import pandas as pd\n",
    "import matplotlib.pyplot as plt\n",
    "import seaborn as sns\n",
    "import json\n",
    "import warnings\n",
    "\n",
    "warnings.filterwarnings('ignore')\n",
    "%matplotlib inline"
   ]
  },
  {
   "cell_type": "code",
   "execution_count": 28,
   "metadata": {
    "collapsed": false
   },
   "outputs": [],
   "source": [
    "config = json.loads(open('combinedArray.json').read())"
   ]
  },
  {
   "cell_type": "code",
   "execution_count": 29,
   "metadata": {
    "collapsed": false
   },
   "outputs": [],
   "source": [
    "favLang = json_normalize(config)"
   ]
  },
  {
   "cell_type": "code",
   "execution_count": 30,
   "metadata": {
    "collapsed": false
   },
   "outputs": [],
   "source": [
    "favLang = favLang[['city', 'country', 'favLanguage', 'gender', 'nativeLanguage']]"
   ]
  },
  {
   "cell_type": "code",
   "execution_count": 31,
   "metadata": {
    "collapsed": false
   },
   "outputs": [],
   "source": [
    "favLang = favLang.replace([\"United States\", \"United States of America\"], \"USA\")\n",
    "favLang = favLang.replace(\"Brasil\", \"Brazil\")\n",
    "favLang = favLang.replace([\"England\", \"Scotland\"], \"United Kingdom\")\n",
    "favLang = favLang.replace([\"Netherland\"], \"Netherlands\")\n",
    "favLang = favLang.replace(\"Brasil\", \"Brazil\")"
   ]
  },
  {
   "cell_type": "code",
   "execution_count": 32,
   "metadata": {
    "collapsed": false
   },
   "outputs": [
    {
     "data": {
      "text/plain": [
       "India                 14\n",
       "USA                   13\n",
       "Canada                 6\n",
       "Sri Lanka              5\n",
       "United Kingdom         4\n",
       "Brazil                 4\n",
       "Germany                2\n",
       "Croatia                2\n",
       "Russian Federation     1\n",
       "Norway                 1\n",
       "Bangladesh             1\n",
       "Poland                 1\n",
       "Austria                1\n",
       "Indonesia              1\n",
       "Mexico                 1\n",
       "Finland                1\n",
       "El Salvador            1\n",
       "Turkey                 1\n",
       "Spain                  1\n",
       "Netherlands            1\n",
       "Japan                  1\n",
       "Name: country, dtype: int64"
      ]
     },
     "execution_count": 32,
     "metadata": {},
     "output_type": "execute_result"
    }
   ],
   "source": [
    "favLang['country'].value_counts()"
   ]
  },
  {
   "cell_type": "code",
   "execution_count": 33,
   "metadata": {
    "collapsed": false
   },
   "outputs": [],
   "source": [
    "# standardize fav programming languages spelling\n",
    "favLang = favLang.replace(\"c++\", \"C++\")\n",
    "favLang = favLang.replace([\"Javascript\", \"ECMAScript 6\", \"Javascript - NodeJS\", \"javascript\", \"JS\", \"ES6\"], \"JavaScript\")\n",
    "favLang = favLang.replace([\"java\", \"JAVA\"], \"Java\")\n",
    "favLang = favLang.replace(\"Rust <rust-lang.org>\", \"Rust\")"
   ]
  },
  {
   "cell_type": "code",
   "execution_count": 34,
   "metadata": {
    "collapsed": false
   },
   "outputs": [
    {
     "data": {
      "text/plain": [
       "English                 23\n",
       "Hindi                    9\n",
       "Sinhala                  4\n",
       "Spanish                  3\n",
       "Portuguese               2\n",
       "Tamil                    2\n",
       "German                   2\n",
       "Brazilian Portuguese     2\n",
       "Bengali                  1\n",
       "Danish                   1\n",
       "French                   1\n",
       "Albanian                 1\n",
       "Marathi                  1\n",
       "croatian                 1\n",
       "Turkish                  1\n",
       "Malayalam                1\n",
       "Croatian                 1\n",
       "Russian                  1\n",
       "Polish                   1\n",
       "Norwegian                1\n",
       "Indonesia                1\n",
       "Nepali                   1\n",
       "Arabic                   1\n",
       "Bangla                   1\n",
       "Name: nativeLanguage, dtype: int64"
      ]
     },
     "execution_count": 34,
     "metadata": {},
     "output_type": "execute_result"
    }
   ],
   "source": [
    "# standardize spoken languages spelling\n",
    "favLang = favLang.replace(\"hindi\", \"Hindi\")\n",
    "favLang = favLang.replace(\"brazilian portuguese\", \"Brazilian Portuguese\")\n",
    "favLang = favLang.replace(\"sinhala\", \"Sinhala\")\n",
    "favLang = favLang.replace([\"American\", \"english\"], \"English\")\n",
    "favLang = favLang.replace(\"albanian\", \"Albanian\")\n",
    "favLang = favLang.replace(\"turkish\", \"Turkish\")\n",
    "favLang['nativeLanguage'].value_counts()"
   ]
  },
  {
   "cell_type": "code",
   "execution_count": 35,
   "metadata": {
    "collapsed": false
   },
   "outputs": [],
   "source": [
    "favLang.to_csv(\"favLang.csv\")"
   ]
  }
 ],
 "metadata": {
  "anaconda-cloud": {},
  "kernelspec": {
   "display_name": "Python [default]",
   "language": "python",
   "name": "python3"
  },
  "language_info": {
   "codemirror_mode": {
    "name": "ipython",
    "version": 3
   },
   "file_extension": ".py",
   "mimetype": "text/x-python",
   "name": "python",
   "nbconvert_exporter": "python",
   "pygments_lexer": "ipython3",
   "version": "3.5.2"
  }
 },
 "nbformat": 4,
 "nbformat_minor": 2
}
